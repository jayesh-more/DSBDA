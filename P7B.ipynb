{
 "cells": [
  {
   "cell_type": "code",
   "execution_count": 65,
   "id": "35cd80e3",
   "metadata": {},
   "outputs": [],
   "source": [
    "import pandas as pd\n",
    "import math\n",
    "import sklearn as sk"
   ]
  },
  {
   "cell_type": "code",
   "execution_count": 66,
   "id": "5c7bbbd7",
   "metadata": {},
   "outputs": [],
   "source": [
    "first_sentence = \"Jupiter is the largest Planet\"\n",
    "second_sentence = \"Mars is the fourth planet from the Sun\""
   ]
  },
  {
   "cell_type": "code",
   "execution_count": 67,
   "id": "a70e443e",
   "metadata": {},
   "outputs": [],
   "source": [
    "#split so each word have their own string\n",
    "first_sentence= first_sentence.split()\n",
    "second_sentence= second_sentence.split()\n",
    "total=set(first_sentence).union(set(second_sentence))"
   ]
  },
  {
   "cell_type": "code",
   "execution_count": 68,
   "id": "ec18fb0a",
   "metadata": {},
   "outputs": [
    {
     "name": "stdout",
     "output_type": "stream",
     "text": [
      "{'Sun', 'is', 'planet', 'fourth', 'Mars', 'Planet', 'Jupiter', 'from', 'largest', 'the'}\n"
     ]
    }
   ],
   "source": [
    "print(total)"
   ]
  },
  {
   "cell_type": "code",
   "execution_count": 69,
   "id": "1f58a304",
   "metadata": {},
   "outputs": [],
   "source": [
    "wordDictA = dict.fromkeys(total, 0)"
   ]
  },
  {
   "cell_type": "code",
   "execution_count": 70,
   "id": "8e1ee38d",
   "metadata": {},
   "outputs": [],
   "source": [
    "wordDictB = dict.fromkeys(total,0)"
   ]
  },
  {
   "cell_type": "code",
   "execution_count": 71,
   "id": "57868ee8",
   "metadata": {},
   "outputs": [],
   "source": [
    "for word in first_sentence:\n",
    "  wordDictA[word]+=1"
   ]
  },
  {
   "cell_type": "code",
   "execution_count": 72,
   "id": "22092416",
   "metadata": {},
   "outputs": [],
   "source": [
    "for word in second_sentence:\n",
    "   wordDictB[word]+=1"
   ]
  },
  {
   "cell_type": "code",
   "execution_count": 73,
   "id": "f649db67",
   "metadata": {},
   "outputs": [
    {
     "data": {
      "text/html": [
       "<div>\n",
       "<style scoped>\n",
       "    .dataframe tbody tr th:only-of-type {\n",
       "        vertical-align: middle;\n",
       "    }\n",
       "\n",
       "    .dataframe tbody tr th {\n",
       "        vertical-align: top;\n",
       "    }\n",
       "\n",
       "    .dataframe thead th {\n",
       "        text-align: right;\n",
       "    }\n",
       "</style>\n",
       "<table border=\"1\" class=\"dataframe\">\n",
       "  <thead>\n",
       "    <tr style=\"text-align: right;\">\n",
       "      <th></th>\n",
       "      <th>Sun</th>\n",
       "      <th>is</th>\n",
       "      <th>planet</th>\n",
       "      <th>fourth</th>\n",
       "      <th>Mars</th>\n",
       "      <th>Planet</th>\n",
       "      <th>Jupiter</th>\n",
       "      <th>from</th>\n",
       "      <th>largest</th>\n",
       "      <th>the</th>\n",
       "    </tr>\n",
       "  </thead>\n",
       "  <tbody>\n",
       "    <tr>\n",
       "      <th>0</th>\n",
       "      <td>0</td>\n",
       "      <td>1</td>\n",
       "      <td>0</td>\n",
       "      <td>0</td>\n",
       "      <td>0</td>\n",
       "      <td>1</td>\n",
       "      <td>1</td>\n",
       "      <td>0</td>\n",
       "      <td>1</td>\n",
       "      <td>1</td>\n",
       "    </tr>\n",
       "    <tr>\n",
       "      <th>1</th>\n",
       "      <td>1</td>\n",
       "      <td>1</td>\n",
       "      <td>1</td>\n",
       "      <td>1</td>\n",
       "      <td>1</td>\n",
       "      <td>0</td>\n",
       "      <td>0</td>\n",
       "      <td>1</td>\n",
       "      <td>0</td>\n",
       "      <td>2</td>\n",
       "    </tr>\n",
       "  </tbody>\n",
       "</table>\n",
       "</div>"
      ],
      "text/plain": [
       "   Sun  is  planet  fourth  Mars  Planet  Jupiter  from  largest  the\n",
       "0    0   1       0       0     0       1        1     0        1    1\n",
       "1    1   1       1       1     1       0        0     1        0    2"
      ]
     },
     "execution_count": 73,
     "metadata": {},
     "output_type": "execute_result"
    }
   ],
   "source": [
    "pd.DataFrame([wordDictA, wordDictB])"
   ]
  },
  {
   "cell_type": "code",
   "execution_count": 74,
   "id": "f853ad7f",
   "metadata": {},
   "outputs": [],
   "source": [
    "def computeTF(wordDict, doc):\n",
    "  tfDict = {}\n",
    "  corpusCount = len(doc)\n",
    "  for word, count in wordDict.items():\n",
    "    tfDict[word] = count/float(corpusCount)\n",
    "  return tfDict"
   ]
  },
  {
   "cell_type": "code",
   "execution_count": 75,
   "id": "4918c0ce",
   "metadata": {},
   "outputs": [],
   "source": [
    "tfFirst = computeTF(wordDictA, first_sentence)\n",
    "tfSecond = computeTF(wordDictB, second_sentence)"
   ]
  },
  {
   "cell_type": "code",
   "execution_count": 76,
   "id": "3643906c",
   "metadata": {},
   "outputs": [],
   "source": [
    "tf = pd.DataFrame([tfFirst, tfSecond])"
   ]
  },
  {
   "cell_type": "code",
   "execution_count": 77,
   "id": "ee2b38db",
   "metadata": {},
   "outputs": [
    {
     "data": {
      "text/html": [
       "<div>\n",
       "<style scoped>\n",
       "    .dataframe tbody tr th:only-of-type {\n",
       "        vertical-align: middle;\n",
       "    }\n",
       "\n",
       "    .dataframe tbody tr th {\n",
       "        vertical-align: top;\n",
       "    }\n",
       "\n",
       "    .dataframe thead th {\n",
       "        text-align: right;\n",
       "    }\n",
       "</style>\n",
       "<table border=\"1\" class=\"dataframe\">\n",
       "  <thead>\n",
       "    <tr style=\"text-align: right;\">\n",
       "      <th></th>\n",
       "      <th>Sun</th>\n",
       "      <th>is</th>\n",
       "      <th>planet</th>\n",
       "      <th>fourth</th>\n",
       "      <th>Mars</th>\n",
       "      <th>Planet</th>\n",
       "      <th>Jupiter</th>\n",
       "      <th>from</th>\n",
       "      <th>largest</th>\n",
       "      <th>the</th>\n",
       "    </tr>\n",
       "  </thead>\n",
       "  <tbody>\n",
       "    <tr>\n",
       "      <th>0</th>\n",
       "      <td>0.000</td>\n",
       "      <td>0.200</td>\n",
       "      <td>0.000</td>\n",
       "      <td>0.000</td>\n",
       "      <td>0.000</td>\n",
       "      <td>0.2</td>\n",
       "      <td>0.2</td>\n",
       "      <td>0.000</td>\n",
       "      <td>0.2</td>\n",
       "      <td>0.20</td>\n",
       "    </tr>\n",
       "    <tr>\n",
       "      <th>1</th>\n",
       "      <td>0.125</td>\n",
       "      <td>0.125</td>\n",
       "      <td>0.125</td>\n",
       "      <td>0.125</td>\n",
       "      <td>0.125</td>\n",
       "      <td>0.0</td>\n",
       "      <td>0.0</td>\n",
       "      <td>0.125</td>\n",
       "      <td>0.0</td>\n",
       "      <td>0.25</td>\n",
       "    </tr>\n",
       "  </tbody>\n",
       "</table>\n",
       "</div>"
      ],
      "text/plain": [
       "     Sun     is  planet  fourth   Mars  Planet  Jupiter   from  largest   the\n",
       "0  0.000  0.200   0.000   0.000  0.000     0.2      0.2  0.000      0.2  0.20\n",
       "1  0.125  0.125   0.125   0.125  0.125     0.0      0.0  0.125      0.0  0.25"
      ]
     },
     "execution_count": 77,
     "metadata": {},
     "output_type": "execute_result"
    }
   ],
   "source": [
    "tf"
   ]
  },
  {
   "cell_type": "code",
   "execution_count": 78,
   "id": "daeeb2b3",
   "metadata": {},
   "outputs": [],
   "source": [
    "def computeIDF(docList):\n",
    "  idfDict = {}\n",
    "  N = len(docList)\n",
    "  idfDict = dict.fromkeys(docList[0].keys(), 0)\n",
    "  for word, val in idfDict.items():\n",
    "    idfDict[word] = math.log10(N/(float(val)+1))\n",
    "  return(idfDict)"
   ]
  },
  {
   "cell_type": "code",
   "execution_count": 79,
   "id": "d4ba8acf",
   "metadata": {},
   "outputs": [],
   "source": [
    "idfs=computeIDF([wordDictA, wordDictB])"
   ]
  },
  {
   "cell_type": "code",
   "execution_count": 80,
   "id": "75324d84",
   "metadata": {},
   "outputs": [
    {
     "data": {
      "text/plain": [
       "{'Sun': 0.3010299956639812,\n",
       " 'is': 0.3010299956639812,\n",
       " 'planet': 0.3010299956639812,\n",
       " 'fourth': 0.3010299956639812,\n",
       " 'Mars': 0.3010299956639812,\n",
       " 'Planet': 0.3010299956639812,\n",
       " 'Jupiter': 0.3010299956639812,\n",
       " 'from': 0.3010299956639812,\n",
       " 'largest': 0.3010299956639812,\n",
       " 'the': 0.3010299956639812}"
      ]
     },
     "execution_count": 80,
     "metadata": {},
     "output_type": "execute_result"
    }
   ],
   "source": [
    "idfs"
   ]
  },
  {
   "cell_type": "code",
   "execution_count": 81,
   "id": "8fbafd3e",
   "metadata": {},
   "outputs": [],
   "source": [
    "def computeTFIDF(tfBow, idfs):\n",
    " tfidf = {}\n",
    " for word, val in tfBow.items():\n",
    "  tfidf[word] = val*idfs[word]\n",
    " return(tfidf)"
   ]
  },
  {
   "cell_type": "code",
   "execution_count": 82,
   "id": "83f5d9c4",
   "metadata": {},
   "outputs": [],
   "source": [
    "idfFirst = computeTFIDF(tfFirst, idfs)\n",
    "idfSecond = computeTFIDF(tfSecond, idfs)"
   ]
  },
  {
   "cell_type": "code",
   "execution_count": 83,
   "id": "89486dff",
   "metadata": {},
   "outputs": [
    {
     "name": "stdout",
     "output_type": "stream",
     "text": [
      "        Sun        is    planet    fourth      Mars    Planet   Jupiter  \\\n",
      "0  0.000000  0.060206  0.000000  0.000000  0.000000  0.060206  0.060206   \n",
      "1  0.037629  0.037629  0.037629  0.037629  0.037629  0.000000  0.000000   \n",
      "\n",
      "       from   largest       the  \n",
      "0  0.000000  0.060206  0.060206  \n",
      "1  0.037629  0.000000  0.075257  \n"
     ]
    }
   ],
   "source": [
    "idf = pd.DataFrame([idfFirst, idfSecond])\n",
    "print(idf)"
   ]
  }
 ],
 "metadata": {
  "kernelspec": {
   "display_name": "Python 3 (ipykernel)",
   "language": "python",
   "name": "python3"
  },
  "language_info": {
   "codemirror_mode": {
    "name": "ipython",
    "version": 3
   },
   "file_extension": ".py",
   "mimetype": "text/x-python",
   "name": "python",
   "nbconvert_exporter": "python",
   "pygments_lexer": "ipython3",
   "version": "3.10.9"
  }
 },
 "nbformat": 4,
 "nbformat_minor": 5
}
