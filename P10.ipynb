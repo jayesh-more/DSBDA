{
 "cells": [
  {
   "cell_type": "code",
   "execution_count": 121,
   "id": "1d9fc391",
   "metadata": {},
   "outputs": [],
   "source": [
    "import pandas as pd\n",
    "import numpy as np\n",
    "import matplotlib.pyplot as plt\n",
    "import seaborn as sns"
   ]
  },
  {
   "cell_type": "code",
   "execution_count": 122,
   "id": "bd2891ac",
   "metadata": {},
   "outputs": [],
   "source": [
    "df=pd.read_csv(\"C:/Users/Jayesh/Desktop/iris.csv.csv\")"
   ]
  },
  {
   "cell_type": "code",
   "execution_count": 123,
   "id": "8cd56f77",
   "metadata": {},
   "outputs": [
    {
     "data": {
      "text/html": [
       "<div>\n",
       "<style scoped>\n",
       "    .dataframe tbody tr th:only-of-type {\n",
       "        vertical-align: middle;\n",
       "    }\n",
       "\n",
       "    .dataframe tbody tr th {\n",
       "        vertical-align: top;\n",
       "    }\n",
       "\n",
       "    .dataframe thead th {\n",
       "        text-align: right;\n",
       "    }\n",
       "</style>\n",
       "<table border=\"1\" class=\"dataframe\">\n",
       "  <thead>\n",
       "    <tr style=\"text-align: right;\">\n",
       "      <th></th>\n",
       "      <th>sepal_length</th>\n",
       "      <th>sepal_width</th>\n",
       "      <th>petal_length</th>\n",
       "      <th>petal_width</th>\n",
       "      <th>species</th>\n",
       "    </tr>\n",
       "  </thead>\n",
       "  <tbody>\n",
       "    <tr>\n",
       "      <th>0</th>\n",
       "      <td>5.1</td>\n",
       "      <td>3.5</td>\n",
       "      <td>1.4</td>\n",
       "      <td>0.2</td>\n",
       "      <td>setosa</td>\n",
       "    </tr>\n",
       "    <tr>\n",
       "      <th>1</th>\n",
       "      <td>4.9</td>\n",
       "      <td>3.0</td>\n",
       "      <td>1.4</td>\n",
       "      <td>0.2</td>\n",
       "      <td>setosa</td>\n",
       "    </tr>\n",
       "    <tr>\n",
       "      <th>2</th>\n",
       "      <td>4.7</td>\n",
       "      <td>3.2</td>\n",
       "      <td>1.3</td>\n",
       "      <td>0.2</td>\n",
       "      <td>setosa</td>\n",
       "    </tr>\n",
       "    <tr>\n",
       "      <th>3</th>\n",
       "      <td>4.6</td>\n",
       "      <td>3.1</td>\n",
       "      <td>1.5</td>\n",
       "      <td>0.2</td>\n",
       "      <td>setosa</td>\n",
       "    </tr>\n",
       "    <tr>\n",
       "      <th>4</th>\n",
       "      <td>5.0</td>\n",
       "      <td>3.6</td>\n",
       "      <td>1.4</td>\n",
       "      <td>0.2</td>\n",
       "      <td>setosa</td>\n",
       "    </tr>\n",
       "    <tr>\n",
       "      <th>...</th>\n",
       "      <td>...</td>\n",
       "      <td>...</td>\n",
       "      <td>...</td>\n",
       "      <td>...</td>\n",
       "      <td>...</td>\n",
       "    </tr>\n",
       "    <tr>\n",
       "      <th>145</th>\n",
       "      <td>6.7</td>\n",
       "      <td>3.0</td>\n",
       "      <td>5.2</td>\n",
       "      <td>2.3</td>\n",
       "      <td>virginica</td>\n",
       "    </tr>\n",
       "    <tr>\n",
       "      <th>146</th>\n",
       "      <td>6.3</td>\n",
       "      <td>2.5</td>\n",
       "      <td>5.0</td>\n",
       "      <td>1.9</td>\n",
       "      <td>virginica</td>\n",
       "    </tr>\n",
       "    <tr>\n",
       "      <th>147</th>\n",
       "      <td>6.5</td>\n",
       "      <td>3.0</td>\n",
       "      <td>5.2</td>\n",
       "      <td>2.0</td>\n",
       "      <td>virginica</td>\n",
       "    </tr>\n",
       "    <tr>\n",
       "      <th>148</th>\n",
       "      <td>6.2</td>\n",
       "      <td>3.4</td>\n",
       "      <td>5.4</td>\n",
       "      <td>2.3</td>\n",
       "      <td>virginica</td>\n",
       "    </tr>\n",
       "    <tr>\n",
       "      <th>149</th>\n",
       "      <td>5.9</td>\n",
       "      <td>3.0</td>\n",
       "      <td>5.1</td>\n",
       "      <td>1.8</td>\n",
       "      <td>virginica</td>\n",
       "    </tr>\n",
       "  </tbody>\n",
       "</table>\n",
       "<p>150 rows × 5 columns</p>\n",
       "</div>"
      ],
      "text/plain": [
       "     sepal_length  sepal_width  petal_length  petal_width    species\n",
       "0             5.1          3.5           1.4          0.2     setosa\n",
       "1             4.9          3.0           1.4          0.2     setosa\n",
       "2             4.7          3.2           1.3          0.2     setosa\n",
       "3             4.6          3.1           1.5          0.2     setosa\n",
       "4             5.0          3.6           1.4          0.2     setosa\n",
       "..            ...          ...           ...          ...        ...\n",
       "145           6.7          3.0           5.2          2.3  virginica\n",
       "146           6.3          2.5           5.0          1.9  virginica\n",
       "147           6.5          3.0           5.2          2.0  virginica\n",
       "148           6.2          3.4           5.4          2.3  virginica\n",
       "149           5.9          3.0           5.1          1.8  virginica\n",
       "\n",
       "[150 rows x 5 columns]"
      ]
     },
     "execution_count": 123,
     "metadata": {},
     "output_type": "execute_result"
    }
   ],
   "source": [
    "df"
   ]
  },
  {
   "cell_type": "code",
   "execution_count": 124,
   "id": "16932b99",
   "metadata": {},
   "outputs": [],
   "source": [
    "col_names = ['Sepal_Length','Sepal_Width','Petal_Length','Petal_Width','Species' ]"
   ]
  },
  {
   "cell_type": "code",
   "execution_count": 125,
   "id": "182ca19b",
   "metadata": {},
   "outputs": [
    {
     "data": {
      "text/html": [
       "<div>\n",
       "<style scoped>\n",
       "    .dataframe tbody tr th:only-of-type {\n",
       "        vertical-align: middle;\n",
       "    }\n",
       "\n",
       "    .dataframe tbody tr th {\n",
       "        vertical-align: top;\n",
       "    }\n",
       "\n",
       "    .dataframe thead th {\n",
       "        text-align: right;\n",
       "    }\n",
       "</style>\n",
       "<table border=\"1\" class=\"dataframe\">\n",
       "  <thead>\n",
       "    <tr style=\"text-align: right;\">\n",
       "      <th></th>\n",
       "      <th>sepal_length</th>\n",
       "      <th>sepal_width</th>\n",
       "      <th>petal_length</th>\n",
       "      <th>petal_width</th>\n",
       "      <th>species</th>\n",
       "    </tr>\n",
       "  </thead>\n",
       "  <tbody>\n",
       "    <tr>\n",
       "      <th>0</th>\n",
       "      <td>5.1</td>\n",
       "      <td>3.5</td>\n",
       "      <td>1.4</td>\n",
       "      <td>0.2</td>\n",
       "      <td>setosa</td>\n",
       "    </tr>\n",
       "    <tr>\n",
       "      <th>1</th>\n",
       "      <td>4.9</td>\n",
       "      <td>3.0</td>\n",
       "      <td>1.4</td>\n",
       "      <td>0.2</td>\n",
       "      <td>setosa</td>\n",
       "    </tr>\n",
       "    <tr>\n",
       "      <th>2</th>\n",
       "      <td>4.7</td>\n",
       "      <td>3.2</td>\n",
       "      <td>1.3</td>\n",
       "      <td>0.2</td>\n",
       "      <td>setosa</td>\n",
       "    </tr>\n",
       "    <tr>\n",
       "      <th>3</th>\n",
       "      <td>4.6</td>\n",
       "      <td>3.1</td>\n",
       "      <td>1.5</td>\n",
       "      <td>0.2</td>\n",
       "      <td>setosa</td>\n",
       "    </tr>\n",
       "    <tr>\n",
       "      <th>4</th>\n",
       "      <td>5.0</td>\n",
       "      <td>3.6</td>\n",
       "      <td>1.4</td>\n",
       "      <td>0.2</td>\n",
       "      <td>setosa</td>\n",
       "    </tr>\n",
       "    <tr>\n",
       "      <th>...</th>\n",
       "      <td>...</td>\n",
       "      <td>...</td>\n",
       "      <td>...</td>\n",
       "      <td>...</td>\n",
       "      <td>...</td>\n",
       "    </tr>\n",
       "    <tr>\n",
       "      <th>145</th>\n",
       "      <td>6.7</td>\n",
       "      <td>3.0</td>\n",
       "      <td>5.2</td>\n",
       "      <td>2.3</td>\n",
       "      <td>virginica</td>\n",
       "    </tr>\n",
       "    <tr>\n",
       "      <th>146</th>\n",
       "      <td>6.3</td>\n",
       "      <td>2.5</td>\n",
       "      <td>5.0</td>\n",
       "      <td>1.9</td>\n",
       "      <td>virginica</td>\n",
       "    </tr>\n",
       "    <tr>\n",
       "      <th>147</th>\n",
       "      <td>6.5</td>\n",
       "      <td>3.0</td>\n",
       "      <td>5.2</td>\n",
       "      <td>2.0</td>\n",
       "      <td>virginica</td>\n",
       "    </tr>\n",
       "    <tr>\n",
       "      <th>148</th>\n",
       "      <td>6.2</td>\n",
       "      <td>3.4</td>\n",
       "      <td>5.4</td>\n",
       "      <td>2.3</td>\n",
       "      <td>virginica</td>\n",
       "    </tr>\n",
       "    <tr>\n",
       "      <th>149</th>\n",
       "      <td>5.9</td>\n",
       "      <td>3.0</td>\n",
       "      <td>5.1</td>\n",
       "      <td>1.8</td>\n",
       "      <td>virginica</td>\n",
       "    </tr>\n",
       "  </tbody>\n",
       "</table>\n",
       "<p>150 rows × 5 columns</p>\n",
       "</div>"
      ],
      "text/plain": [
       "     sepal_length  sepal_width  petal_length  petal_width    species\n",
       "0             5.1          3.5           1.4          0.2     setosa\n",
       "1             4.9          3.0           1.4          0.2     setosa\n",
       "2             4.7          3.2           1.3          0.2     setosa\n",
       "3             4.6          3.1           1.5          0.2     setosa\n",
       "4             5.0          3.6           1.4          0.2     setosa\n",
       "..            ...          ...           ...          ...        ...\n",
       "145           6.7          3.0           5.2          2.3  virginica\n",
       "146           6.3          2.5           5.0          1.9  virginica\n",
       "147           6.5          3.0           5.2          2.0  virginica\n",
       "148           6.2          3.4           5.4          2.3  virginica\n",
       "149           5.9          3.0           5.1          1.8  virginica\n",
       "\n",
       "[150 rows x 5 columns]"
      ]
     },
     "execution_count": 125,
     "metadata": {},
     "output_type": "execute_result"
    }
   ],
   "source": [
    "df"
   ]
  },
  {
   "cell_type": "code",
   "execution_count": 126,
   "id": "29f1c4e5",
   "metadata": {},
   "outputs": [
    {
     "data": {
      "text/plain": [
       "5"
      ]
     },
     "execution_count": 126,
     "metadata": {},
     "output_type": "execute_result"
    }
   ],
   "source": [
    "#1. List down the features and their types (e.g., numeric, nominal)available in the dataset\n",
    "len(list(df))"
   ]
  },
  {
   "cell_type": "code",
   "execution_count": 127,
   "id": "90eca82e",
   "metadata": {},
   "outputs": [
    {
     "data": {
      "text/plain": [
       "<bound method DataFrame.info of      sepal_length  sepal_width  petal_length  petal_width    species\n",
       "0             5.1          3.5           1.4          0.2     setosa\n",
       "1             4.9          3.0           1.4          0.2     setosa\n",
       "2             4.7          3.2           1.3          0.2     setosa\n",
       "3             4.6          3.1           1.5          0.2     setosa\n",
       "4             5.0          3.6           1.4          0.2     setosa\n",
       "..            ...          ...           ...          ...        ...\n",
       "145           6.7          3.0           5.2          2.3  virginica\n",
       "146           6.3          2.5           5.0          1.9  virginica\n",
       "147           6.5          3.0           5.2          2.0  virginica\n",
       "148           6.2          3.4           5.4          2.3  virginica\n",
       "149           5.9          3.0           5.1          1.8  virginica\n",
       "\n",
       "[150 rows x 5 columns]>"
      ]
     },
     "execution_count": 127,
     "metadata": {},
     "output_type": "execute_result"
    }
   ],
   "source": [
    "df.info"
   ]
  },
  {
   "cell_type": "code",
   "execution_count": 128,
   "id": "01ad013a",
   "metadata": {},
   "outputs": [
    {
     "data": {
      "text/plain": [
       "array(['setosa', 'versicolor', 'virginica'], dtype=object)"
      ]
     },
     "execution_count": 128,
     "metadata": {},
     "output_type": "execute_result"
    }
   ],
   "source": [
    "np.unique(df['species'])"
   ]
  },
  {
   "cell_type": "code",
   "execution_count": 129,
   "id": "ad908638",
   "metadata": {},
   "outputs": [
    {
     "data": {
      "text/html": [
       "<div>\n",
       "<style scoped>\n",
       "    .dataframe tbody tr th:only-of-type {\n",
       "        vertical-align: middle;\n",
       "    }\n",
       "\n",
       "    .dataframe tbody tr th {\n",
       "        vertical-align: top;\n",
       "    }\n",
       "\n",
       "    .dataframe thead th {\n",
       "        text-align: right;\n",
       "    }\n",
       "</style>\n",
       "<table border=\"1\" class=\"dataframe\">\n",
       "  <thead>\n",
       "    <tr style=\"text-align: right;\">\n",
       "      <th></th>\n",
       "      <th>sepal_length</th>\n",
       "      <th>sepal_width</th>\n",
       "      <th>petal_length</th>\n",
       "      <th>petal_width</th>\n",
       "    </tr>\n",
       "  </thead>\n",
       "  <tbody>\n",
       "    <tr>\n",
       "      <th>count</th>\n",
       "      <td>150.000000</td>\n",
       "      <td>150.000000</td>\n",
       "      <td>150.000000</td>\n",
       "      <td>150.000000</td>\n",
       "    </tr>\n",
       "    <tr>\n",
       "      <th>mean</th>\n",
       "      <td>5.843333</td>\n",
       "      <td>3.054000</td>\n",
       "      <td>3.758667</td>\n",
       "      <td>1.198667</td>\n",
       "    </tr>\n",
       "    <tr>\n",
       "      <th>std</th>\n",
       "      <td>0.828066</td>\n",
       "      <td>0.433594</td>\n",
       "      <td>1.764420</td>\n",
       "      <td>0.763161</td>\n",
       "    </tr>\n",
       "    <tr>\n",
       "      <th>min</th>\n",
       "      <td>4.300000</td>\n",
       "      <td>2.000000</td>\n",
       "      <td>1.000000</td>\n",
       "      <td>0.100000</td>\n",
       "    </tr>\n",
       "    <tr>\n",
       "      <th>25%</th>\n",
       "      <td>5.100000</td>\n",
       "      <td>2.800000</td>\n",
       "      <td>1.600000</td>\n",
       "      <td>0.300000</td>\n",
       "    </tr>\n",
       "    <tr>\n",
       "      <th>50%</th>\n",
       "      <td>5.800000</td>\n",
       "      <td>3.000000</td>\n",
       "      <td>4.350000</td>\n",
       "      <td>1.300000</td>\n",
       "    </tr>\n",
       "    <tr>\n",
       "      <th>75%</th>\n",
       "      <td>6.400000</td>\n",
       "      <td>3.300000</td>\n",
       "      <td>5.100000</td>\n",
       "      <td>1.800000</td>\n",
       "    </tr>\n",
       "    <tr>\n",
       "      <th>max</th>\n",
       "      <td>7.900000</td>\n",
       "      <td>4.400000</td>\n",
       "      <td>6.900000</td>\n",
       "      <td>2.500000</td>\n",
       "    </tr>\n",
       "  </tbody>\n",
       "</table>\n",
       "</div>"
      ],
      "text/plain": [
       "       sepal_length  sepal_width  petal_length  petal_width\n",
       "count    150.000000   150.000000    150.000000   150.000000\n",
       "mean       5.843333     3.054000      3.758667     1.198667\n",
       "std        0.828066     0.433594      1.764420     0.763161\n",
       "min        4.300000     2.000000      1.000000     0.100000\n",
       "25%        5.100000     2.800000      1.600000     0.300000\n",
       "50%        5.800000     3.000000      4.350000     1.300000\n",
       "75%        6.400000     3.300000      5.100000     1.800000\n",
       "max        7.900000     4.400000      6.900000     2.500000"
      ]
     },
     "execution_count": 129,
     "metadata": {},
     "output_type": "execute_result"
    }
   ],
   "source": [
    "df.describe()"
   ]
  },
  {
   "cell_type": "code",
   "execution_count": 130,
   "id": "59e12303",
   "metadata": {},
   "outputs": [
    {
     "data": {
      "text/plain": [
       "array([[<Axes: title={'center': 'sepal_length'}>,\n",
       "        <Axes: title={'center': 'sepal_width'}>],\n",
       "       [<Axes: title={'center': 'petal_length'}>,\n",
       "        <Axes: title={'center': 'petal_width'}>]], dtype=object)"
      ]
     },
     "execution_count": 130,
     "metadata": {},
     "output_type": "execute_result"
    },
    {
     "data": {
      "image/png": "[encoded data removed]",
      "text/plain": [
       "<Figure size 640x480 with 4 Axes>"
      ]
     },
     "metadata": {},
     "output_type": "display_data"
    }
   ],
   "source": [
    "#2. Create a histogram for each feature in the dataset to illustratethe feature distributions.\n",
    "df.hist()"
   ]
  },
  {
   "cell_type": "code",
   "execution_count": 131,
   "id": "94a6d047",
   "metadata": {},
   "outputs": [
    {
     "data": {
      "image/png": "[encoded data removed]",
      "text/plain": [
       "<Figure size 1200x800 with 1 Axes>"
      ]
     },
     "metadata": {},
     "output_type": "display_data"
    }
   ],
   "source": [
    "#3. Create a box plot for each feature in the dataset.\n",
    "data_to_plot = [df[\"sepal_length\"],df[\"sepal_width\"],df[\"petal_length\"],df[\"petal_width\"]]\n",
    "sns.set_style(\"whitegrid\")\n",
    "fig = plt.figure(1, figsize=(12,8))\n",
    "ax = fig.add_subplot(111)\n",
    "bp = ax.boxplot(data_to_plot)"
   ]
  },
  {
   "cell_type": "code",
   "execution_count": 132,
   "id": "d3a4391f",
   "metadata": {},
   "outputs": [
    {
     "data": {
      "text/html": [
       "<div>\n",
       "<style scoped>\n",
       "    .dataframe tbody tr th:only-of-type {\n",
       "        vertical-align: middle;\n",
       "    }\n",
       "\n",
       "    .dataframe tbody tr th {\n",
       "        vertical-align: top;\n",
       "    }\n",
       "\n",
       "    .dataframe thead th {\n",
       "        text-align: right;\n",
       "    }\n",
       "</style>\n",
       "<table border=\"1\" class=\"dataframe\">\n",
       "  <thead>\n",
       "    <tr style=\"text-align: right;\">\n",
       "      <th></th>\n",
       "      <th>sepal_length</th>\n",
       "      <th>sepal_width</th>\n",
       "      <th>petal_length</th>\n",
       "      <th>petal_width</th>\n",
       "    </tr>\n",
       "  </thead>\n",
       "  <tbody>\n",
       "    <tr>\n",
       "      <th>count</th>\n",
       "      <td>150.000000</td>\n",
       "      <td>150.000000</td>\n",
       "      <td>150.000000</td>\n",
       "      <td>150.000000</td>\n",
       "    </tr>\n",
       "    <tr>\n",
       "      <th>mean</th>\n",
       "      <td>5.843333</td>\n",
       "      <td>3.054000</td>\n",
       "      <td>3.758667</td>\n",
       "      <td>1.198667</td>\n",
       "    </tr>\n",
       "    <tr>\n",
       "      <th>std</th>\n",
       "      <td>0.828066</td>\n",
       "      <td>0.433594</td>\n",
       "      <td>1.764420</td>\n",
       "      <td>0.763161</td>\n",
       "    </tr>\n",
       "    <tr>\n",
       "      <th>min</th>\n",
       "      <td>4.300000</td>\n",
       "      <td>2.000000</td>\n",
       "      <td>1.000000</td>\n",
       "      <td>0.100000</td>\n",
       "    </tr>\n",
       "    <tr>\n",
       "      <th>25%</th>\n",
       "      <td>5.100000</td>\n",
       "      <td>2.800000</td>\n",
       "      <td>1.600000</td>\n",
       "      <td>0.300000</td>\n",
       "    </tr>\n",
       "    <tr>\n",
       "      <th>50%</th>\n",
       "      <td>5.800000</td>\n",
       "      <td>3.000000</td>\n",
       "      <td>4.350000</td>\n",
       "      <td>1.300000</td>\n",
       "    </tr>\n",
       "    <tr>\n",
       "      <th>75%</th>\n",
       "      <td>6.400000</td>\n",
       "      <td>3.300000</td>\n",
       "      <td>5.100000</td>\n",
       "      <td>1.800000</td>\n",
       "    </tr>\n",
       "    <tr>\n",
       "      <th>max</th>\n",
       "      <td>7.900000</td>\n",
       "      <td>4.400000</td>\n",
       "      <td>6.900000</td>\n",
       "      <td>2.500000</td>\n",
       "    </tr>\n",
       "  </tbody>\n",
       "</table>\n",
       "</div>"
      ],
      "text/plain": [
       "       sepal_length  sepal_width  petal_length  petal_width\n",
       "count    150.000000   150.000000    150.000000   150.000000\n",
       "mean       5.843333     3.054000      3.758667     1.198667\n",
       "std        0.828066     0.433594      1.764420     0.763161\n",
       "min        4.300000     2.000000      1.000000     0.100000\n",
       "25%        5.100000     2.800000      1.600000     0.300000\n",
       "50%        5.800000     3.000000      4.350000     1.300000\n",
       "75%        6.400000     3.300000      5.100000     1.800000\n",
       "max        7.900000     4.400000      6.900000     2.500000"
      ]
     },
     "execution_count": 132,
     "metadata": {},
     "output_type": "execute_result"
    }
   ],
   "source": [
    "#4. Compare distributions and identify outliers.\n",
    "df.describe()"
   ]
  },
  {
   "cell_type": "code",
   "execution_count": 133,
   "id": "89be9fb0",
   "metadata": {},
   "outputs": [],
   "source": [
    "sorted_s_width = sorted(df['sepal_width'])"
   ]
  },
  {
   "cell_type": "code",
   "execution_count": 134,
   "id": "d860f83d",
   "metadata": {},
   "outputs": [
    {
     "data": {
      "text/plain": [
       "[2.0,\n",
       " 2.2,\n",
       " 2.2,\n",
       " 2.2,\n",
       " 2.3,\n",
       " 2.3,\n",
       " 2.3,\n",
       " 2.3,\n",
       " 2.4,\n",
       " 2.4,\n",
       " 2.4,\n",
       " 2.5,\n",
       " 2.5,\n",
       " 2.5,\n",
       " 2.5,\n",
       " 2.5,\n",
       " 2.5,\n",
       " 2.5,\n",
       " 2.5,\n",
       " 2.6,\n",
       " 2.6,\n",
       " 2.6,\n",
       " 2.6,\n",
       " 2.6,\n",
       " 2.7,\n",
       " 2.7,\n",
       " 2.7,\n",
       " 2.7,\n",
       " 2.7,\n",
       " 2.7,\n",
       " 2.7,\n",
       " 2.7,\n",
       " 2.7,\n",
       " 2.8,\n",
       " 2.8,\n",
       " 2.8,\n",
       " 2.8,\n",
       " 2.8,\n",
       " 2.8,\n",
       " 2.8,\n",
       " 2.8,\n",
       " 2.8,\n",
       " 2.8,\n",
       " 2.8,\n",
       " 2.8,\n",
       " 2.8,\n",
       " 2.8,\n",
       " 2.9,\n",
       " 2.9,\n",
       " 2.9,\n",
       " 2.9,\n",
       " 2.9,\n",
       " 2.9,\n",
       " 2.9,\n",
       " 2.9,\n",
       " 2.9,\n",
       " 2.9,\n",
       " 3.0,\n",
       " 3.0,\n",
       " 3.0,\n",
       " 3.0,\n",
       " 3.0,\n",
       " 3.0,\n",
       " 3.0,\n",
       " 3.0,\n",
       " 3.0,\n",
       " 3.0,\n",
       " 3.0,\n",
       " 3.0,\n",
       " 3.0,\n",
       " 3.0,\n",
       " 3.0,\n",
       " 3.0,\n",
       " 3.0,\n",
       " 3.0,\n",
       " 3.0,\n",
       " 3.0,\n",
       " 3.0,\n",
       " 3.0,\n",
       " 3.0,\n",
       " 3.0,\n",
       " 3.0,\n",
       " 3.0,\n",
       " 3.1,\n",
       " 3.1,\n",
       " 3.1,\n",
       " 3.1,\n",
       " 3.1,\n",
       " 3.1,\n",
       " 3.1,\n",
       " 3.1,\n",
       " 3.1,\n",
       " 3.1,\n",
       " 3.1,\n",
       " 3.1,\n",
       " 3.2,\n",
       " 3.2,\n",
       " 3.2,\n",
       " 3.2,\n",
       " 3.2,\n",
       " 3.2,\n",
       " 3.2,\n",
       " 3.2,\n",
       " 3.2,\n",
       " 3.2,\n",
       " 3.2,\n",
       " 3.2,\n",
       " 3.2,\n",
       " 3.3,\n",
       " 3.3,\n",
       " 3.3,\n",
       " 3.3,\n",
       " 3.3,\n",
       " 3.3,\n",
       " 3.4,\n",
       " 3.4,\n",
       " 3.4,\n",
       " 3.4,\n",
       " 3.4,\n",
       " 3.4,\n",
       " 3.4,\n",
       " 3.4,\n",
       " 3.4,\n",
       " 3.4,\n",
       " 3.4,\n",
       " 3.4,\n",
       " 3.5,\n",
       " 3.5,\n",
       " 3.5,\n",
       " 3.5,\n",
       " 3.5,\n",
       " 3.5,\n",
       " 3.6,\n",
       " 3.6,\n",
       " 3.6,\n",
       " 3.7,\n",
       " 3.7,\n",
       " 3.7,\n",
       " 3.8,\n",
       " 3.8,\n",
       " 3.8,\n",
       " 3.8,\n",
       " 3.8,\n",
       " 3.8,\n",
       " 3.9,\n",
       " 3.9,\n",
       " 4.0,\n",
       " 4.1,\n",
       " 4.2,\n",
       " 4.4]"
      ]
     },
     "execution_count": 134,
     "metadata": {},
     "output_type": "execute_result"
    }
   ],
   "source": [
    "sorted_s_width"
   ]
  },
  {
   "cell_type": "code",
   "execution_count": 135,
   "id": "8277d900",
   "metadata": {},
   "outputs": [],
   "source": [
    "q1 = np.percentile(sorted_s_width, 25)"
   ]
  },
  {
   "cell_type": "code",
   "execution_count": 136,
   "id": "c2f4de5c",
   "metadata": {},
   "outputs": [],
   "source": [
    "q3 = np.percentile(sorted_s_width, 75)"
   ]
  },
  {
   "cell_type": "code",
   "execution_count": 137,
   "id": "8abb1635",
   "metadata": {},
   "outputs": [
    {
     "data": {
      "text/plain": [
       "0.5"
      ]
     },
     "execution_count": 137,
     "metadata": {},
     "output_type": "execute_result"
    }
   ],
   "source": [
    "IQR=q3-q1\n",
    "IQR"
   ]
  },
  {
   "cell_type": "code",
   "execution_count": 138,
   "id": "a2e51854",
   "metadata": {},
   "outputs": [],
   "source": [
    "lwr_bound = q1-(1.5*IQR)\n"
   ]
  },
  {
   "cell_type": "code",
   "execution_count": 139,
   "id": "51d18290",
   "metadata": {},
   "outputs": [],
   "source": [
    "up_bound = q3+(1.5*IQR)"
   ]
  },
  {
   "cell_type": "code",
   "execution_count": 140,
   "id": "351da4a1",
   "metadata": {},
   "outputs": [
    {
     "name": "stdout",
     "output_type": "stream",
     "text": [
      "2.05 4.05\n"
     ]
    }
   ],
   "source": [
    "print(lwr_bound , up_bound)"
   ]
  },
  {
   "cell_type": "code",
   "execution_count": 141,
   "id": "0089fde6",
   "metadata": {},
   "outputs": [],
   "source": [
    "sorted_s_length = sorted(df['sepal_length'])"
   ]
  },
  {
   "cell_type": "code",
   "execution_count": 142,
   "id": "5f0ea0de",
   "metadata": {},
   "outputs": [
    {
     "data": {
      "text/plain": [
       "[4.3,\n",
       " 4.4,\n",
       " 4.4,\n",
       " 4.4,\n",
       " 4.5,\n",
       " 4.6,\n",
       " 4.6,\n",
       " 4.6,\n",
       " 4.6,\n",
       " 4.7,\n",
       " 4.7,\n",
       " 4.8,\n",
       " 4.8,\n",
       " 4.8,\n",
       " 4.8,\n",
       " 4.8,\n",
       " 4.9,\n",
       " 4.9,\n",
       " 4.9,\n",
       " 4.9,\n",
       " 4.9,\n",
       " 4.9,\n",
       " 5.0,\n",
       " 5.0,\n",
       " 5.0,\n",
       " 5.0,\n",
       " 5.0,\n",
       " 5.0,\n",
       " 5.0,\n",
       " 5.0,\n",
       " 5.0,\n",
       " 5.0,\n",
       " 5.1,\n",
       " 5.1,\n",
       " 5.1,\n",
       " 5.1,\n",
       " 5.1,\n",
       " 5.1,\n",
       " 5.1,\n",
       " 5.1,\n",
       " 5.1,\n",
       " 5.2,\n",
       " 5.2,\n",
       " 5.2,\n",
       " 5.2,\n",
       " 5.3,\n",
       " 5.4,\n",
       " 5.4,\n",
       " 5.4,\n",
       " 5.4,\n",
       " 5.4,\n",
       " 5.4,\n",
       " 5.5,\n",
       " 5.5,\n",
       " 5.5,\n",
       " 5.5,\n",
       " 5.5,\n",
       " 5.5,\n",
       " 5.5,\n",
       " 5.6,\n",
       " 5.6,\n",
       " 5.6,\n",
       " 5.6,\n",
       " 5.6,\n",
       " 5.6,\n",
       " 5.7,\n",
       " 5.7,\n",
       " 5.7,\n",
       " 5.7,\n",
       " 5.7,\n",
       " 5.7,\n",
       " 5.7,\n",
       " 5.7,\n",
       " 5.8,\n",
       " 5.8,\n",
       " 5.8,\n",
       " 5.8,\n",
       " 5.8,\n",
       " 5.8,\n",
       " 5.8,\n",
       " 5.9,\n",
       " 5.9,\n",
       " 5.9,\n",
       " 6.0,\n",
       " 6.0,\n",
       " 6.0,\n",
       " 6.0,\n",
       " 6.0,\n",
       " 6.0,\n",
       " 6.1,\n",
       " 6.1,\n",
       " 6.1,\n",
       " 6.1,\n",
       " 6.1,\n",
       " 6.1,\n",
       " 6.2,\n",
       " 6.2,\n",
       " 6.2,\n",
       " 6.2,\n",
       " 6.3,\n",
       " 6.3,\n",
       " 6.3,\n",
       " 6.3,\n",
       " 6.3,\n",
       " 6.3,\n",
       " 6.3,\n",
       " 6.3,\n",
       " 6.3,\n",
       " 6.4,\n",
       " 6.4,\n",
       " 6.4,\n",
       " 6.4,\n",
       " 6.4,\n",
       " 6.4,\n",
       " 6.4,\n",
       " 6.5,\n",
       " 6.5,\n",
       " 6.5,\n",
       " 6.5,\n",
       " 6.5,\n",
       " 6.6,\n",
       " 6.6,\n",
       " 6.7,\n",
       " 6.7,\n",
       " 6.7,\n",
       " 6.7,\n",
       " 6.7,\n",
       " 6.7,\n",
       " 6.7,\n",
       " 6.7,\n",
       " 6.8,\n",
       " 6.8,\n",
       " 6.8,\n",
       " 6.9,\n",
       " 6.9,\n",
       " 6.9,\n",
       " 6.9,\n",
       " 7.0,\n",
       " 7.1,\n",
       " 7.2,\n",
       " 7.2,\n",
       " 7.2,\n",
       " 7.3,\n",
       " 7.4,\n",
       " 7.6,\n",
       " 7.7,\n",
       " 7.7,\n",
       " 7.7,\n",
       " 7.7,\n",
       " 7.9]"
      ]
     },
     "execution_count": 142,
     "metadata": {},
     "output_type": "execute_result"
    }
   ],
   "source": [
    "sorted_s_length"
   ]
  },
  {
   "cell_type": "code",
   "execution_count": 143,
   "id": "478c6c05",
   "metadata": {},
   "outputs": [],
   "source": [
    "ql1=np.percentile(sorted_s_width, 25)"
   ]
  },
  {
   "cell_type": "code",
   "execution_count": 144,
   "id": "dbeec451",
   "metadata": {},
   "outputs": [],
   "source": [
    "ql3=np.percentile(sorted_s_width, 75)"
   ]
  },
  {
   "cell_type": "code",
   "execution_count": 145,
   "id": "1d5fe150",
   "metadata": {},
   "outputs": [
    {
     "data": {
      "text/plain": [
       "0.5"
      ]
     },
     "execution_count": 145,
     "metadata": {},
     "output_type": "execute_result"
    }
   ],
   "source": [
    "IQRL=ql3-ql1\n",
    "IQRL"
   ]
  },
  {
   "cell_type": "code",
   "execution_count": 146,
   "id": "1e29aece",
   "metadata": {},
   "outputs": [],
   "source": [
    "lwr_boundl = ql1-(1.5*IQRL)"
   ]
  },
  {
   "cell_type": "code",
   "execution_count": 147,
   "id": "ce70bb4e",
   "metadata": {},
   "outputs": [],
   "source": [
    "up_boundl = ql3+(1.5*IQRL)"
   ]
  },
  {
   "cell_type": "code",
   "execution_count": 148,
   "id": "96674a9b",
   "metadata": {},
   "outputs": [
    {
     "name": "stdout",
     "output_type": "stream",
     "text": [
      "2.05 4.05\n"
     ]
    }
   ],
   "source": [
    "print(lwr_boundl,up_boundl)"
   ]
  },
  {
   "cell_type": "code",
   "execution_count": 149,
   "id": "f42ab32a",
   "metadata": {},
   "outputs": [],
   "source": [
    "sorted_p_length = sorted(df['petal_length'])"
   ]
  },
  {
   "cell_type": "code",
   "execution_count": 150,
   "id": "bb085b27",
   "metadata": {},
   "outputs": [
    {
     "data": {
      "text/plain": [
       "[1.0,\n",
       " 1.1,\n",
       " 1.2,\n",
       " 1.2,\n",
       " 1.3,\n",
       " 1.3,\n",
       " 1.3,\n",
       " 1.3,\n",
       " 1.3,\n",
       " 1.3,\n",
       " 1.3,\n",
       " 1.4,\n",
       " 1.4,\n",
       " 1.4,\n",
       " 1.4,\n",
       " 1.4,\n",
       " 1.4,\n",
       " 1.4,\n",
       " 1.4,\n",
       " 1.4,\n",
       " 1.4,\n",
       " 1.4,\n",
       " 1.4,\n",
       " 1.5,\n",
       " 1.5,\n",
       " 1.5,\n",
       " 1.5,\n",
       " 1.5,\n",
       " 1.5,\n",
       " 1.5,\n",
       " 1.5,\n",
       " 1.5,\n",
       " 1.5,\n",
       " 1.5,\n",
       " 1.5,\n",
       " 1.5,\n",
       " 1.5,\n",
       " 1.6,\n",
       " 1.6,\n",
       " 1.6,\n",
       " 1.6,\n",
       " 1.6,\n",
       " 1.6,\n",
       " 1.6,\n",
       " 1.7,\n",
       " 1.7,\n",
       " 1.7,\n",
       " 1.7,\n",
       " 1.9,\n",
       " 1.9,\n",
       " 3.0,\n",
       " 3.3,\n",
       " 3.3,\n",
       " 3.5,\n",
       " 3.5,\n",
       " 3.6,\n",
       " 3.7,\n",
       " 3.8,\n",
       " 3.9,\n",
       " 3.9,\n",
       " 3.9,\n",
       " 4.0,\n",
       " 4.0,\n",
       " 4.0,\n",
       " 4.0,\n",
       " 4.0,\n",
       " 4.1,\n",
       " 4.1,\n",
       " 4.1,\n",
       " 4.2,\n",
       " 4.2,\n",
       " 4.2,\n",
       " 4.2,\n",
       " 4.3,\n",
       " 4.3,\n",
       " 4.4,\n",
       " 4.4,\n",
       " 4.4,\n",
       " 4.4,\n",
       " 4.5,\n",
       " 4.5,\n",
       " 4.5,\n",
       " 4.5,\n",
       " 4.5,\n",
       " 4.5,\n",
       " 4.5,\n",
       " 4.5,\n",
       " 4.6,\n",
       " 4.6,\n",
       " 4.6,\n",
       " 4.7,\n",
       " 4.7,\n",
       " 4.7,\n",
       " 4.7,\n",
       " 4.7,\n",
       " 4.8,\n",
       " 4.8,\n",
       " 4.8,\n",
       " 4.8,\n",
       " 4.9,\n",
       " 4.9,\n",
       " 4.9,\n",
       " 4.9,\n",
       " 4.9,\n",
       " 5.0,\n",
       " 5.0,\n",
       " 5.0,\n",
       " 5.0,\n",
       " 5.1,\n",
       " 5.1,\n",
       " 5.1,\n",
       " 5.1,\n",
       " 5.1,\n",
       " 5.1,\n",
       " 5.1,\n",
       " 5.1,\n",
       " 5.2,\n",
       " 5.2,\n",
       " 5.3,\n",
       " 5.3,\n",
       " 5.4,\n",
       " 5.4,\n",
       " 5.5,\n",
       " 5.5,\n",
       " 5.5,\n",
       " 5.6,\n",
       " 5.6,\n",
       " 5.6,\n",
       " 5.6,\n",
       " 5.6,\n",
       " 5.6,\n",
       " 5.7,\n",
       " 5.7,\n",
       " 5.7,\n",
       " 5.8,\n",
       " 5.8,\n",
       " 5.8,\n",
       " 5.9,\n",
       " 5.9,\n",
       " 6.0,\n",
       " 6.0,\n",
       " 6.1,\n",
       " 6.1,\n",
       " 6.1,\n",
       " 6.3,\n",
       " 6.4,\n",
       " 6.6,\n",
       " 6.7,\n",
       " 6.7,\n",
       " 6.9]"
      ]
     },
     "execution_count": 150,
     "metadata": {},
     "output_type": "execute_result"
    }
   ],
   "source": [
    "sorted_p_length"
   ]
  },
  {
   "cell_type": "code",
   "execution_count": 151,
   "id": "6bb6def4",
   "metadata": {},
   "outputs": [],
   "source": [
    "qpl1=np.percentile(sorted_p_length, 25)"
   ]
  },
  {
   "cell_type": "code",
   "execution_count": 152,
   "id": "8a4d78c1",
   "metadata": {},
   "outputs": [],
   "source": [
    "qpl3=np.percentile(sorted_p_length, 75)"
   ]
  },
  {
   "cell_type": "code",
   "execution_count": 153,
   "id": "843f4833",
   "metadata": {},
   "outputs": [
    {
     "data": {
      "text/plain": [
       "1.6"
      ]
     },
     "execution_count": 153,
     "metadata": {},
     "output_type": "execute_result"
    }
   ],
   "source": [
    "IQRPL=qpl3=qpl1\n",
    "IQRPL"
   ]
  },
  {
   "cell_type": "code",
   "execution_count": 154,
   "id": "e3725980",
   "metadata": {},
   "outputs": [],
   "source": [
    "lwr_boundlp = qpl1-(1.5*IQRPL)"
   ]
  },
  {
   "cell_type": "code",
   "execution_count": 155,
   "id": "8166ae13",
   "metadata": {},
   "outputs": [],
   "source": [
    "up_boundlp = qpl3+(1.5*IQRPL)"
   ]
  },
  {
   "cell_type": "code",
   "execution_count": 156,
   "id": "1f40174b",
   "metadata": {},
   "outputs": [
    {
     "name": "stdout",
     "output_type": "stream",
     "text": [
      "-0.8000000000000003 4.0\n"
     ]
    }
   ],
   "source": [
    "print(lwr_boundlp, up_boundlp)"
   ]
  }
 ],
 "metadata": {
  "kernelspec": {
   "display_name": "Python 3 (ipykernel)",
   "language": "python",
   "name": "python3"
  },
  "language_info": {
   "codemirror_mode": {
    "name": "ipython",
    "version": 3
   },
   "file_extension": ".py",
   "mimetype": "text/x-python",
   "name": "python",
   "nbconvert_exporter": "python",
   "pygments_lexer": "ipython3",
   "version": "3.10.9"
  }
 },
 "nbformat": 4,
 "nbformat_minor": 5
}
